{
 "cells": [
  {
   "cell_type": "code",
   "execution_count": 1,
   "metadata": {},
   "outputs": [
    {
     "name": "stderr",
     "output_type": "stream",
     "text": [
      "/home/amal/anaconda3/envs/deeprlbootcamp/lib/python3.5/site-packages/matplotlib/font_manager.py:279: UserWarning: Matplotlib is building the font cache using fc-list. This may take a moment.\n",
      "  'Matplotlib is building the font cache using fc-list. '\n"
     ]
    }
   ],
   "source": [
    "\"\"\"\n",
    "This project was developed by Peter Chen, Rocky Duan, Pieter Abbeel for the Berkeley Deep RL Bootcamp, August 2017.\n",
    "Bootcamp website with slides and lecture videos: https://sites.google.com/view/deep-rl-bootcamp/.\n",
    "\n",
    "Code adapted from Stanford CS231N materials: http://cs231n.stanford.edu/\n",
    "\"\"\"\n",
    "\n",
    "\n",
    "# note to properly run this lab, you should execute all code blocks sequentially\n",
    "import chainer\n",
    "import chainer.functions as F\n",
    "import chainer.links as L\n",
    "from chainer import training\n",
    "from chainer.training import extensions\n",
    "\n",
    "from collections import namedtuple, defaultdict, deque\n",
    "\n",
    "import numpy as np\n",
    "\n",
    "%matplotlib inline\n",
    "\n",
    "import matplotlib\n",
    "import matplotlib.pyplot as plt"
   ]
  },
  {
   "cell_type": "markdown",
   "metadata": {},
   "source": [
    "## Introduction to Chainer\n",
    "\n",
    "Chainer can be understood as Numpy plus the ability to record the computation graph of numerical operations to enable Automatic Differentiation. (Chainer actually also offers many other things; for example, a Numpy equivalent library that runs on GPU, but we will ignore them for now)"
   ]
  },
  {
   "cell_type": "markdown",
   "metadata": {},
   "source": [
    "Let's illustrate how Chainer works by a simple 1D regression task.\n",
    "\n",
    "Suppose we have observations from the following model $y = w x + b + \\epsilon$ where $\\epsilon \\sim \\mathcal{N}(0, 0.1)$ and the task is to estimate the linear model parameters $w, b$ from data."
   ]
  },
  {
   "cell_type": "code",
   "execution_count": 2,
   "metadata": {},
   "outputs": [
    {
     "data": {
      "image/png": "[encoded data removed]",
      "text/plain": [
       "<matplotlib.figure.Figure at 0x7f0680714ef0>"
      ]
     },
     "metadata": {},
     "output_type": "display_data"
    }
   ],
   "source": [
    "# first generate some observations\n",
    "true_a = 1.3\n",
    "true_b = 0.4\n",
    "data_x = (np.arange(100) / 99.0 - .5).astype(np.float32) # Chainer assumes all the cpu computation is done in float32\n",
    "data_y = (data_x * true_a + true_b + np.random.randn(*data_x.shape) * 0.1).astype(np.float32)\n",
    "_ = plt.scatter(data_x, data_y, c='b')"
   ]
  },
  {
   "cell_type": "markdown",
   "metadata": {},
   "source": [
    "Chainer provides an abstraction called `Link` that describe some computation and keeps track of parameters for it. For instance, a `Linear` link describes a linear map on input and keeps track of `w` and bias `b`."
   ]
  },
  {
   "cell_type": "code",
   "execution_count": 3,
   "metadata": {},
   "outputs": [
    {
     "name": "stdout",
     "output_type": "stream",
     "text": [
      "w: variable W([[-0.63511103]])\n",
      "b: variable b([ 0.])\n",
      "Operations on chainer.Variable: variable([[ 122.36489105]]), type: <class 'chainer.variable.Variable'>\n",
      "numpy arrays: [[-0.63511103]] [[ 122.36489105]]\n"
     ]
    }
   ],
   "source": [
    "model = L.Linear(in_size=1, out_size=1) # input is 1D data and output is also 1D data\n",
    "\n",
    "# Chainer will randomly initialize `w` and `b` for us.\n",
    "# we can take a look at their values\n",
    "print(\"w:\", model.W)\n",
    "print(\"b:\", model.b)\n",
    "\n",
    "# model.W and model.b have type `chainer.Variable`, \n",
    "#   which is a wrapper around Numpy array\n",
    "assert isinstance(model.W, chainer.Variable)\n",
    "\n",
    "# operations that involve `chainer.Variable` will produce\n",
    "#   `chainer.Variable` and this records the computation graph\n",
    "var_result = model.W + 123 # some random computation\n",
    "print(\"Operations on chainer.Variable: %s, type: %s\" % (var_result, type(var_result)))\n",
    "\n",
    "# the underlying numpy array can be accessed by `data` attribute\n",
    "print(\"numpy arrays:\", model.W.data, var_result.data)"
   ]
  },
  {
   "cell_type": "code",
   "execution_count": 4,
   "metadata": {},
   "outputs": [
    {
     "data": {
      "image/png": "[encoded data removed]",
      "text/plain": [
       "<matplotlib.figure.Figure at 0x7f06807143c8>"
      ]
     },
     "metadata": {},
     "output_type": "display_data"
    }
   ],
   "source": [
    "# A chainer link is a callable object. calling it performs the\n",
    "#   forward computation. (in this case, it performs Wx + b)\n",
    "model_y = model(data_x[:, None]) # chainer's link usually assumes input is [Batch Size, Input Dimension]\n",
    "# `model_y` is a chainer variable so we use `.data` to access its numpy array for plotting\n",
    "\n",
    "# we can plot the model's current fit in red. it should be terrible because we haven't trained it yet\n",
    "_ = plt.plot(data_x, model_y.data[:,0], c='r')\n",
    "_ = plt.scatter(data_x, data_y, c='b')\n",
    "_ = plt.title(\"Initial model\")"
   ]
  },
  {
   "cell_type": "code",
   "execution_count": 5,
   "metadata": {},
   "outputs": [
    {
     "name": "stdout",
     "output_type": "stream",
     "text": [
      "loss variable(0.48409542441368103)\n",
      "dloss/dW [[-0.3280378]]\n"
     ]
    }
   ],
   "source": [
    "# now let's walk through how to perform forward computation\n",
    "#  and use AD to get gradients\n",
    "\n",
    "# first we clear the gradients that are stored in the model\n",
    "model.cleargrads()\n",
    "# as we have seen we can perform forward computation by calling the link\n",
    "model_y = model(data_x[:, None])\n",
    "\n",
    "# remember that `model_y` is a chainer variable. to operate on chainer variable\n",
    "#    we will use functions from chainer.functions to operate on those objects.\n",
    "loss = F.mean(F.square(model_y - data_y[:, None]))\n",
    "# `loss` is a scalar chainer variable\n",
    "assert isinstance(loss, chainer.Variable)\n",
    "print(\"loss\", loss)\n",
    "# calculating gradients d loss /d params is as simple as\n",
    "loss.backward()\n",
    "\n",
    "# we can inspect the gradient of loss with respect to W\n",
    "print(\"dloss/dW\", model.W.grad)"
   ]
  },
  {
   "cell_type": "markdown",
   "metadata": {},
   "source": [
    "Now that we know how to calculate gradients, we can code up a simple loop to perform gradient descent to train this model:\n",
    "\n",
    "(Hint: if you run into weird problems, maybe the state has been messed up and you can try re-runing all the code blocks from the beginning)"
   ]
  },
  {
   "cell_type": "code",
   "execution_count": 14,
   "metadata": {},
   "outputs": [
    {
     "name": "stdout",
     "output_type": "stream",
     "text": [
      "Itr 0 loss: variable(0.6540607213973999)\n",
      "Itr 25 loss: variable(0.5726152658462524)\n",
      "Itr 50 loss: variable(0.5161841511726379)\n",
      "Itr 75 loss: variable(0.4751850664615631)\n"
     ]
    },
    {
     "data": {
      "image/png": "[encoded data removed]",
      "text/plain": [
       "<matplotlib.figure.Figure at 0x7f06785a6630>"
      ]
     },
     "metadata": {},
     "output_type": "display_data"
    },
    {
     "data": {
      "image/png": "[encoded data removed]",
      "text/plain": [
       "<matplotlib.figure.Figure at 0x7f067857bb38>"
      ]
     },
     "metadata": {},
     "output_type": "display_data"
    }
   ],
   "source": [
    "# now we can perform gradient descent to improve this model\n",
    "model = L.Linear(in_size=1, out_size=1)\n",
    "losses = []\n",
    "\n",
    "for i in range(100):\n",
    "    model.cleargrads()\n",
    "    loss = F.mean(F.square(model(data_x[:, None]) - data_y[:, None]))\n",
    "    losses.append(float(loss.data))\n",
    "    loss.backward()\n",
    "    model.W.data = model.W.data - 0.005*model.W.grad\n",
    "    model.b.data = model.b.data - 0.005*model.b.grad\n",
    "    ## *** YOUR CODE HERE TO PERFORM GRADIENT DESCENT ***\n",
    "    ## Hint: you could access gradients with model.W.grad, model.b.grad\n",
    "    ## Hint2: you could write data into a parameter with model.W.data[:] = some_numpy_array\n",
    "    ## Hint3: if your model doesn't learn, remember to try different learning rates\n",
    "    if i % 25 == 0:\n",
    "        print(\"Itr\", i, \"loss:\", loss)\n",
    "plt.plot(np.array(losses))\n",
    "plt.title(\"Learning curve\")\n",
    "plt.figure()\n",
    "plt.plot(data_x, model(data_x[:, None])[:,0].data, c='r')\n",
    "plt.scatter(data_x, data_y, c='b')\n",
    "_ = plt.title(\"Trained model fitness\")\n"
   ]
  },
  {
   "cell_type": "markdown",
   "metadata": {},
   "source": [
    "## Train your first deep model\n",
    "\n",
    "Now we have learned the basics of Chainer. We can use it to train a deep model to classify MNIST digits. We will train a model on the MNIST dataset because the dataset is small.\n",
    "\n",
    "First we load the data and see what the images look like:"
   ]
  },
  {
   "cell_type": "code",
   "execution_count": 16,
   "metadata": {
    "scrolled": false
   },
   "outputs": [
    {
     "name": "stdout",
     "output_type": "stream",
     "text": [
      "train[i][0] is the ith image that's flattened, and has shape: (784,)\n",
      "train[i][1] is the ith image's label, such as: 3\n"
     ]
    },
    {
     "data": {
      "image/png": "[encoded data removed]",
      "text/plain": [
       "<matplotlib.figure.Figure at 0x7f066fdf6cf8>"
      ]
     },
     "metadata": {},
     "output_type": "display_data"
    },
    {
     "data": {
      "image/png": "[encoded data removed]",
      "text/plain": [
       "<matplotlib.figure.Figure at 0x7f067848c080>"
      ]
     },
     "metadata": {},
     "output_type": "display_data"
    }
   ],
   "source": [
    "train, test = chainer.datasets.get_mnist()\n",
    "# use train[data_point_index] to access data\n",
    "print(\"train[i][0] is the ith image that's flattened, and has shape:\", train[12][0].shape)\n",
    "print(\"train[i][1] is the ith image's label, such as:\", train[12][1])\n",
    "# here we visualize two of them\n",
    "plt.imshow(train[12][0].reshape([28, 28,]))\n",
    "plt.title(\"Label: %s\" % train[12][1])\n",
    "plt.figure()\n",
    "plt.imshow(train[42][0].reshape([28, 28,]))\n",
    "_ = plt.title(\"Label: %s\" % train[42][1])"
   ]
  },
  {
   "cell_type": "markdown",
   "metadata": {},
   "source": [
    "Next we will provide some boilerplate code and train a linear classifier as an example:"
   ]
  },
  {
   "cell_type": "code",
   "execution_count": 17,
   "metadata": {},
   "outputs": [
    {
     "name": "stdout",
     "output_type": "stream",
     "text": [
      "loss: 2.41682720184; accuracy: 0.0625\n",
      "loss: 0.59540346384; accuracy: 0.86\n",
      "loss: 0.488735364079; accuracy: 0.8925\n",
      "loss: 0.434470422268; accuracy: 0.8875\n",
      "loss: 0.33255813092; accuracy: 0.9075\n",
      "loss: 0.386185100675; accuracy: 0.9175\n",
      "loss: 0.296877072155; accuracy: 0.92\n",
      "loss: 0.370288895965; accuracy: 0.895\n",
      "loss: 0.347230728865; accuracy: 0.8775\n",
      "loss: 0.432930571437; accuracy: 0.89\n",
      "loss: 0.351171139479; accuracy: 0.9125\n",
      "loss: 0.318393869996; accuracy: 0.9275\n",
      "loss: 0.283974795341; accuracy: 0.91\n",
      "loss: 0.280295728147; accuracy: 0.925\n",
      "loss: 0.314758455455; accuracy: 0.92\n",
      "loss: 0.244823356569; accuracy: 0.925\n",
      "loss: 0.359314990938; accuracy: 0.89\n",
      "loss: 0.346497480571; accuracy: 0.895\n",
      "loss: 0.280915595293; accuracy: 0.9175\n",
      "loss: 0.261691295505; accuracy: 0.92\n",
      "loss: 0.217807875574; accuracy: 0.9325\n",
      "loss: 0.289948589206; accuracy: 0.9275\n",
      "loss: 0.274066114724; accuracy: 0.9225\n",
      "loss: 0.314397288561; accuracy: 0.8925\n",
      "loss: 0.261704537868; accuracy: 0.915\n",
      "loss: 0.311496243775; accuracy: 0.915\n"
     ]
    }
   ],
   "source": [
    "def run(model, batchsize=16, num_epochs=2):\n",
    "    \n",
    "    optimizer = chainer.optimizers.Adam() # we will use chainer's Adam implementation instead of writing our own gradient based optimization\n",
    "    optimizer.setup(model)\n",
    "    \n",
    "    stats = defaultdict(lambda: deque(maxlen=25))\n",
    "    for epoch in range(num_epochs):\n",
    "        train_iter = chainer.iterators.SerialIterator(train, batchsize, repeat=False, shuffle=True)\n",
    "        test_iter = chainer.iterators.SerialIterator(test, batchsize, repeat=False, shuffle=False)\n",
    "        \n",
    "        for itr, batch in enumerate(train_iter):\n",
    "            xs = np.concatenate([datum[0][None, :] for datum in batch])\n",
    "            ys = np.array([datum[1] for datum in batch])\n",
    "\n",
    "            logits = model(xs)\n",
    "\n",
    "            loss = F.softmax_cross_entropy(logits, ys)\n",
    "            model.cleargrads()\n",
    "            loss.backward()\n",
    "            optimizer.update()\n",
    "            \n",
    "            # calculate stats\n",
    "            stats[\"loss\"].append(float(loss.data))\n",
    "            stats[\"accuracy\"].append(float((logits.data.argmax(1) == ys).sum() / batchsize))\n",
    "            if itr % 300 == 0:\n",
    "                print(\"; \".join(\"%s: %s\" % (k, np.mean(vs)) for k, vs in stats.items()))\n",
    "\n",
    "# try a simple linear model\n",
    "run(L.Linear(None, 10))"
   ]
  },
  {
   "cell_type": "markdown",
   "metadata": {},
   "source": [
    "Next we will try to improve performance by training an MLP instead. A partial implementation is provided for you to fill in:"
   ]
  },
  {
   "cell_type": "code",
   "execution_count": 18,
   "metadata": {},
   "outputs": [
    {
     "name": "stdout",
     "output_type": "stream",
     "text": [
      "loss: 2.2796869278; accuracy: 0.1875\n",
      "loss: 0.358354128003; accuracy: 0.885\n",
      "loss: 0.258180894256; accuracy: 0.92\n",
      "loss: 0.179177129269; accuracy: 0.955\n",
      "loss: 0.246137473583; accuracy: 0.93\n",
      "loss: 0.134757775366; accuracy: 0.95\n",
      "loss: 0.124957286417; accuracy: 0.95\n",
      "loss: 0.122436506748; accuracy: 0.9625\n",
      "loss: 0.1285201478; accuracy: 0.955\n",
      "loss: 0.112769009471; accuracy: 0.9525\n",
      "loss: 0.123572286069; accuracy: 0.9575\n",
      "loss: 0.117889692783; accuracy: 0.9525\n",
      "loss: 0.169476159811; accuracy: 0.965\n",
      "loss: 0.108466029167; accuracy: 0.9675\n",
      "loss: 0.0793771165609; accuracy: 0.975\n",
      "loss: 0.105185623765; accuracy: 0.96\n",
      "loss: 0.111778155267; accuracy: 0.9725\n",
      "loss: 0.0592425459623; accuracy: 0.99\n",
      "loss: 0.0953672063351; accuracy: 0.9775\n",
      "loss: 0.123613706231; accuracy: 0.975\n",
      "loss: 0.131938645542; accuracy: 0.9575\n",
      "loss: 0.0736884766817; accuracy: 0.9725\n",
      "loss: 0.127788904607; accuracy: 0.9675\n",
      "loss: 0.0778460413218; accuracy: 0.9725\n",
      "loss: 0.129103251696; accuracy: 0.9625\n",
      "loss: 0.0661094844341; accuracy: 0.9825\n"
     ]
    }
   ],
   "source": [
    "class MLP(chainer.Chain):\n",
    "\n",
    "    def __init__(self, n_units, n_out):\n",
    "        super(MLP, self).__init__()\n",
    "        with self.init_scope():\n",
    "            # the size of the inputs to each layer will be inferred\n",
    "            self.l1 = L.Linear(None, n_units)  # n_in -> n_units\n",
    "            self.l2 = L.Linear(None, n_units)  # n_units -> n_units\n",
    "            self.l3 = L.Linear(None, n_out)  # n_units -> n_out\n",
    "\n",
    "    def __call__(self, x):\n",
    "        # *** YOUR CODE HERE TO BUILD AN MLP W/ self.l1, self.l2, self.l3 ***\n",
    "        # \n",
    "        # Hint: you should make use of non-linearities / activation functions\n",
    "        #     https://docs.chainer.org/en/stable/reference/functions.html#activation-functions\n",
    "        net = self.l1(x)\n",
    "        net = F.relu(net)\n",
    "        net = self.l2(net)\n",
    "        net = F.relu(net)\n",
    "        net = self.l3(net)\n",
    "        return net\n",
    "        #raise NotImplementedError()\n",
    "run(MLP(200, 10))"
   ]
  },
  {
   "cell_type": "markdown",
   "metadata": {},
   "source": [
    "Next you should try to implement logging test loss and see if the model is overfitting."
   ]
  },
  {
   "cell_type": "code",
   "execution_count": 21,
   "metadata": {},
   "outputs": [
    {
     "name": "stdout",
     "output_type": "stream",
     "text": [
      "loss: 2.28740310669; test_accuracy: 0.25; test_loss: 2.29058218002; accuracy: 0.1875\n",
      "loss: 0.336974933743; test_accuracy: 0.125; test_loss: 5.44811749458; accuracy: 0.905\n",
      "loss: 0.33333868742; test_accuracy: 0.0833333333333; test_loss: 6.41428772608; accuracy: 0.9175\n",
      "loss: 0.187664785385; test_accuracy: 0.0625; test_loss: 7.34055936337; accuracy: 0.9375\n",
      "loss: 0.22813229084; test_accuracy: 0.05; test_loss: 7.82869291306; accuracy: 0.9275\n",
      "loss: 0.150020232201; test_accuracy: 0.0416666666667; test_loss: 8.3145579497; accuracy: 0.95\n",
      "loss: 0.206659156382; test_accuracy: 0.0357142857143; test_loss: 8.48568827765; accuracy: 0.9325\n",
      "loss: 0.140083364546; test_accuracy: 0.03125; test_loss: 8.85823363066; accuracy: 0.9575\n",
      "loss: 0.149884197116; test_accuracy: 0.0277777777778; test_loss: 9.07597960366; accuracy: 0.9625\n",
      "loss: 0.158332107067; test_accuracy: 0.025; test_loss: 9.18380656242; accuracy: 0.9525\n",
      "loss: 0.149871030152; test_accuracy: 0.0227272727273; test_loss: 9.37106804414; accuracy: 0.955\n",
      "loss: 0.170762528181; test_accuracy: 0.0208333333333; test_loss: 9.50136530399; accuracy: 0.9475\n",
      "loss: 0.120399219096; test_accuracy: 0.0192307692308; test_loss: 9.59874890401; accuracy: 0.97\n",
      "loss: 0.0997693565488; test_accuracy: 0.0178571428571; test_loss: 9.70440077782; accuracy: 0.9725\n",
      "loss: 0.0668109285831; test_accuracy: 0.0166666666667; test_loss: 9.91369263331; accuracy: 0.98\n",
      "loss: 0.0723012006283; test_accuracy: 0.015625; test_loss: 10.1545726359; accuracy: 0.98\n",
      "loss: 0.0639782595634; test_accuracy: 0.0147058823529; test_loss: 10.3634611859; accuracy: 0.9775\n",
      "loss: 0.0505286628008; test_accuracy: 0.0138888888889; test_loss: 10.5027661059; accuracy: 0.985\n",
      "loss: 0.111312077045; test_accuracy: 0.0131578947368; test_loss: 10.6321832004; accuracy: 0.965\n",
      "loss: 0.0875481456518; test_accuracy: 0.0125; test_loss: 10.8061450243; accuracy: 0.97\n",
      "loss: 0.116345870197; test_accuracy: 0.0119047619048; test_loss: 10.8896451451; accuracy: 0.96\n",
      "loss: 0.0710049828887; test_accuracy: 0.0113636363636; test_loss: 10.9862790758; accuracy: 0.975\n",
      "loss: 0.0854128295183; test_accuracy: 0.0108695652174; test_loss: 11.0452610721; accuracy: 0.965\n",
      "loss: 0.062938118577; test_accuracy: 0.0104166666667; test_loss: 11.1333828568; accuracy: 0.9775\n",
      "loss: 0.0991370373964; test_accuracy: 0.01; test_loss: 11.2681595421; accuracy: 0.9625\n",
      "loss: 0.0473424005508; test_accuracy: 0.0; test_loss: 11.7007820892; accuracy: 0.985\n"
     ]
    }
   ],
   "source": [
    "def better_run(model, batchsize=16, num_epochs=2):\n",
    "\n",
    "    optimizer = chainer.optimizers.Adam() # we will use chainer's Adam implementation instead of writing our own gradient based optimization\n",
    "    optimizer.setup(model)\n",
    "    \n",
    "    stats = defaultdict(lambda: deque(maxlen=25))\n",
    "    for epoch in range(num_epochs):\n",
    "        train_iter = chainer.iterators.SerialIterator(train, batchsize, repeat=False, shuffle=True)\n",
    "        for itr, batch in enumerate(train_iter):\n",
    "            xs = np.concatenate([datum[0][None, :] for datum in batch])\n",
    "            ys = np.array([datum[1] for datum in batch])\n",
    "\n",
    "            logits = model(xs)\n",
    "\n",
    "            loss = F.softmax_cross_entropy(logits, ys)\n",
    "            model.cleargrads()\n",
    "            loss.backward()\n",
    "            optimizer.update()\n",
    "            \n",
    "            # calculate stats\n",
    "            stats[\"loss\"].append(float(loss.data))\n",
    "            stats[\"accuracy\"].append(float((logits.data.argmax(1) == ys).sum() / batchsize))\n",
    "            if itr % 300 == 0:\n",
    "                test_iter = chainer.iterators.SerialIterator(test, batchsize, repeat=False, shuffle=False)\n",
    "                \n",
    "                # *** YOUR CODE implement logging of stats on test set ***\n",
    "                xt = np.concatenate([datum[0][None, :] for datum in test_iter.next()])\n",
    "                yt = np.array([datum[1] for datum in test_iter.next()])\n",
    "                test_logits = model(xt)\n",
    "                test_loss = F.softmax_cross_entropy(test_logits, yt)\n",
    "                stats[\"test_loss\"].append(float(test_loss.data))\n",
    "                stats[\"test_accuracy\"].append(float((test_logits.data.argmax(1) == yt).sum() / batchsize))\n",
    "                print(\"; \".join(\"%s: %s\" % (k, np.mean(vs)) for k, vs in stats.items()))\n",
    "\n",
    "better_run(MLP(200, 10))"
   ]
  },
  {
   "cell_type": "markdown",
   "metadata": {},
   "source": [
    "Try different variants!\n",
    "\n",
    "- Does using a ConvNet improve performance (reduce overfitting?)\n",
    "- Try changing the learning rate and observe the effect\n",
    "- Does the model train if you give it correlated gradients? (consecutively sample many batches of \"1\", then many batches of \"2\", ... etc"
   ]
  }
 ],
 "metadata": {
  "kernelspec": {
   "display_name": "Python 3",
   "language": "python",
   "name": "python3"
  },
  "language_info": {
   "codemirror_mode": {
    "name": "ipython",
    "version": 3
   },
   "file_extension": ".py",
   "mimetype": "text/x-python",
   "name": "python",
   "nbconvert_exporter": "python",
   "pygments_lexer": "ipython3",
   "version": "3.5.3"
  }
 },
 "nbformat": 4,
 "nbformat_minor": 1
}
